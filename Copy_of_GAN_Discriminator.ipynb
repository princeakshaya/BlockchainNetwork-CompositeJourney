{
  "nbformat": 4,
  "nbformat_minor": 0,
  "metadata": {
    "colab": {
      "name": "Copy of GAN_Discriminator.ipynb",
      "provenance": [],
      "private_outputs": true,
      "collapsed_sections": [],
      "toc_visible": true
    },
    "kernelspec": {
      "name": "python3",
      "display_name": "Python 3"
    },
    "accelerator": "GPU"
  },
  "cells": [
    {
      "cell_type": "code",
      "metadata": {
        "id": "dk74qUr1JMo8",
        "colab_type": "code",
        "colab": {}
      },
      "source": [
        "import os\n",
        "\n",
        "import matplotlib.pyplot as plt\n",
        "import numpy as np\n",
        "\n",
        "from keras.datasets import cifar10, mnist\n",
        "from keras.layers import (BatchNormalization, Conv2D, Conv2DTranspose, Dense,\n",
        "                          Dropout, Flatten, Input, Reshape, UpSampling2D,\n",
        "                          ZeroPadding2D)\n",
        "from keras.layers.advanced_activations import LeakyReLU\n",
        "from keras.models import Model, Sequential\n",
        "from keras.optimizers import Adam\n",
        "import keras\n",
        "from keras.initializers import RandomNormal\n",
        "from keras.layers import Dense, Conv2D, Flatten, Reshape, Dropout\n",
        "from keras.layers.advanced_activations import LeakyReLU\n"
      ],
      "execution_count": 0,
      "outputs": []
    },
    {
      "cell_type": "code",
      "metadata": {
        "id": "RfZ5rA_xo0A_",
        "colab_type": "code",
        "colab": {}
      },
      "source": [
        "from google.colab import drive\n",
        "drive.mount('/content/drive')"
      ],
      "execution_count": 0,
      "outputs": []
    },
    {
      "cell_type": "code",
      "metadata": {
        "id": "4nrl2YctHUth",
        "colab_type": "code",
        "colab": {}
      },
      "source": [
        "optimizer = Adam(0.0002, 0.5)\n",
        "x_train = np.load('/content/drive/My Drive/body ml app/x_train_img.npy')\n",
        "y_train = np.load('/content/drive/My Drive/body ml app/y_train_img.npy')\n",
        "print(x_train.shape)\n",
        "print(y_train.shape)"
      ],
      "execution_count": 0,
      "outputs": []
    },
    {
      "cell_type": "code",
      "metadata": {
        "id": "Hi04AWy0mHHZ",
        "colab_type": "code",
        "colab": {}
      },
      "source": [
        "def create_descriminator(input_shape):\n",
        "    discriminator = Sequential()\n",
        "    \n",
        "    discriminator.add(Conv2D(64, (3, 3), padding='same', kernel_initializer=RandomNormal(0, 0.02), input_shape=input_shape))\n",
        "    discriminator.add(LeakyReLU(0.2))\n",
        "    \n",
        "    discriminator.add(Conv2D(128, (3, 3), strides=2, padding='same', kernel_initializer=RandomNormal(0, 0.02)))\n",
        "    discriminator.add(LeakyReLU(0.2))\n",
        "    \n",
        "    discriminator.add(Conv2D(128, (3, 3), strides=2, padding='same', kernel_initializer=RandomNormal(0, 0.02)))\n",
        "    discriminator.add(LeakyReLU(0.2))\n",
        "    \n",
        "    discriminator.add(Conv2D(256, (3, 3), strides=2, padding='same', kernel_initializer=RandomNormal(0, 0.02)))\n",
        "    discriminator.add(LeakyReLU(0.2))\n",
        "    \n",
        "    discriminator.add(Flatten())\n",
        "    discriminator.add(Dropout(0.4))\n",
        "    discriminator.add(Dense(4, activation='softmax', input_shape=input_shape))\n",
        "    \n",
        "    discriminator.compile(loss='categorical_crossentropy', optimizer=optimizer,metrics=['accuracy'])\n",
        "    return discriminator\n"
      ],
      "execution_count": 0,
      "outputs": []
    },
    {
      "cell_type": "code",
      "metadata": {
        "id": "xiDolLZaIMQq",
        "colab_type": "code",
        "colab": {}
      },
      "source": [
        "discriminator = create_descriminator((600,400,3))\n",
        "\n",
        "loss = discriminator.fit(x_train,y_train,epochs=20,\n",
        "          batch_size=1)\n",
        "print(loss)"
      ],
      "execution_count": 0,
      "outputs": []
    },
    {
      "cell_type": "code",
      "metadata": {
        "id": "gYo7nGcLybO3",
        "colab_type": "code",
        "colab": {}
      },
      "source": [
        "# Cheking our model : \n",
        "import imageio as im \n",
        "# (Prediction array )op : [nrml , obese , overweight, underweight ]\n",
        "from PIL import Image\n",
        "check_img = Image.open(r'/content/3.jpg')\n",
        "# print(type(im1))\n",
        "check_img = check_img.resize((600,400))\n",
        "chk_img = np.asarray(check_img)\n",
        "print(chk_img.shape)\n",
        "chk_img = chk_img.reshape(1,600,400,3)\n",
        "op = discriminator.predict(chk_img)\n",
        "print(op)\n",
        "print(op.max())"
      ],
      "execution_count": 0,
      "outputs": []
    }
  ]
}